{
 "cells": [
  {
   "cell_type": "markdown",
   "metadata": {},
   "source": [
    "# Algorithms, Binary Search & Linked Lists"
   ]
  },
  {
   "cell_type": "markdown",
   "metadata": {},
   "source": [
    "## Tasks Today:\n",
    " \n",
    "1) <b>In-Place Algorithms</b> <br>\n",
    " &nbsp;&nbsp;&nbsp;&nbsp; a) Syntax <br>\n",
    " &nbsp;&nbsp;&nbsp;&nbsp; a) Out of Place Algorithm <br>\n",
    " &nbsp;&nbsp;&nbsp;&nbsp; b) In-Class Exercise #1 <br>\n",
    "2) <b>Two Pointers</b> <br>\n",
    "3) <b>Linked Lists</b> <br>\n",
    "4) <b>Merge Sort</b> <br>\n",
    " &nbsp;&nbsp;&nbsp;&nbsp; a) Video on Algorithms <br>\n",
    " &nbsp;&nbsp;&nbsp;&nbsp; b) How it Works <br>\n",
    "5) <b>Exercises</b> <br>\n",
    " &nbsp;&nbsp;&nbsp;&nbsp; a) Exercise #1 - Reverse a List in Place Using an In-Place Algorithm <br>\n",
    " &nbsp;&nbsp;&nbsp;&nbsp; b) Exercise #2 - Find Distinct Words <br>\n",
    " &nbsp;&nbsp;&nbsp;&nbsp; c) Exercise #3 - Write a program to implement a Linear Search Algorithm. <br>"
   ]
  },
  {
   "cell_type": "markdown",
   "metadata": {},
   "source": [
    "## In-Place Algorithms"
   ]
  },
  {
   "cell_type": "markdown",
   "metadata": {},
   "source": [
    "#### Syntax"
   ]
  },
  {
   "cell_type": "code",
   "execution_count": 1,
   "metadata": {},
   "outputs": [
    {
     "name": "stdout",
     "output_type": "stream",
     "text": [
      "Before Swap: [20, 4, 10]\n",
      "After Swap: [10, 4, 20]\n"
     ]
    }
   ],
   "source": [
    "# var[i], var[i+1] = var[i+1], var[i]\n",
    "#sometimes called the swap algorithm\n",
    "\n",
    "def swap(alist,x,y,z):\n",
    "    alist[x],alist[y],alist[z] = alist[z],alist[y],alist[x]\n",
    "    return alist\n",
    "\n",
    "my_list = [20,4,10]\n",
    "print(f\"Before Swap: {my_list}\")\n",
    "\n",
    "swap(my_list,0,1,2)\n",
    "print(f'After Swap: {my_list}')"
   ]
  },
  {
   "cell_type": "markdown",
   "metadata": {},
   "source": [
    "#### Out of Place Algorithm"
   ]
  },
  {
   "cell_type": "code",
   "execution_count": 4,
   "metadata": {},
   "outputs": [
    {
     "ename": "SyntaxError",
     "evalue": "invalid syntax (<ipython-input-4-6615d4dc691f>, line 16)",
     "output_type": "error",
     "traceback": [
      "\u001b[1;36m  File \u001b[1;32m\"<ipython-input-4-6615d4dc691f>\"\u001b[1;36m, line \u001b[1;32m16\u001b[0m\n\u001b[1;33m    print('New Array'new_array)\u001b[0m\n\u001b[1;37m                     ^\u001b[0m\n\u001b[1;31mSyntaxError\u001b[0m\u001b[1;31m:\u001b[0m invalid syntax\n"
     ]
    }
   ],
   "source": [
    "# not swapping, but rather reversing completely\n",
    "#this creates a copy to another place in memory\n",
    "\n",
    "my_list_copy = my_list[::-1]\n",
    "print(my_list_copy)\n",
    "\n",
    "array = ['a','b','c','d']\n",
    "new_array = ['a'] * len(array)\n",
    "\n",
    "print('Before',array)\n",
    "\n",
    "length = len(array)-1\n",
    "\n",
    "for i in range(length):\n",
    "    new_array[i] = array[length - i]\n",
    "print('New Array'new_array)\n",
    "\n",
    "array = new_array\n",
    "print('After',array)"
   ]
  },
  {
   "cell_type": "markdown",
   "metadata": {},
   "source": [
    "#### In-Class Exercise #1 <br>\n",
    "<p>Write a function that takes in four arguments (list, index1, index2, index3), and swaps those three positions in the list passed in.</p>"
   ]
  },
  {
   "cell_type": "code",
   "execution_count": 9,
   "metadata": {},
   "outputs": [
    {
     "name": "stdout",
     "output_type": "stream",
     "text": [
      "[3, 4, 10, 8, 4, 2, 6]\n"
     ]
    }
   ],
   "source": [
    "l_1 = [10, 4, 3, 8, 4, 2, 6]\n",
    "\n",
    "def switch(listd,index1,index2,index3):\n",
    "    listd[index1],listd[index2],listd[index3] = listd[index3],listd[index2],listd[index1]\n",
    "    return listd\n",
    "print(switch(l_1,0,1,2))\n",
    "    \n",
    "\n",
    "\n"
   ]
  },
  {
   "cell_type": "markdown",
   "metadata": {},
   "source": [
    "## Two Pointers"
   ]
  },
  {
   "cell_type": "markdown",
   "metadata": {},
   "source": [
    "#### Syntax"
   ]
  },
  {
   "cell_type": "code",
   "execution_count": 10,
   "metadata": {},
   "outputs": [
    {
     "data": {
      "text/plain": [
       "[5, 99, 7, 16, 3, 2, 1]"
      ]
     },
     "execution_count": 10,
     "metadata": {},
     "output_type": "execute_result"
    }
   ],
   "source": [
    "# alist[left], alist[right] = alist[right],alist[left]\n",
    "#use two pointers to swap, can use a while loop in most cases\n",
    "\n",
    "def twoPointers(alist):\n",
    "    #creating pointers for the list below:\n",
    "    left = 0\n",
    "    right = len(alist)-1\n",
    "    while left<= right:\n",
    "        alist[left], alist[right] = alist[right], alist[left]\n",
    "        left+= 1\n",
    "        right-= 1\n",
    "    return alist\n",
    "my_list_2 = [1,2,3,16,7,99,5]\n",
    "twoPointers(my_list_2)"
   ]
  },
  {
   "cell_type": "markdown",
   "metadata": {},
   "source": [
    "#### Video of Algorithms <br>\n",
    "<p>Watch the video about algorithms.</p>\n",
    "\n",
    "https://www.youtube.com/watch?v=Q9HjeFD62Uk\n",
    "\n",
    "https://www.youtube.com/watch?v=kPRA0W1kECg\n",
    "\n",
    "https://www.youtube.com/watch?v=ZZuD6iUe3Pc"
   ]
  },
  {
   "cell_type": "markdown",
   "metadata": {},
   "source": [
    "# Sorting Algorithms"
   ]
  },
  {
   "cell_type": "markdown",
   "metadata": {},
   "source": [
    "#### Bubble Sort\n",
    "\n",
    "Worst Case: O(n^2) Time - O(1) Space"
   ]
  },
  {
   "cell_type": "code",
   "execution_count": 11,
   "metadata": {},
   "outputs": [
    {
     "data": {
      "text/plain": [
       "[1, 22, 34, 44, 55, 66, 88, 100]"
      ]
     },
     "execution_count": 11,
     "metadata": {},
     "output_type": "execute_result"
    }
   ],
   "source": [
    "#Best case: O(n) - Linear \n",
    "\n",
    "def swap(i,j,array):\n",
    "    array[i],array[j] = array[j], array[i]\n",
    "    \n",
    "def bubbleSort(array):\n",
    "    isSorted = False\n",
    "    while not isSorted:\n",
    "        isSorted = True\n",
    "        for num in range(len(array)-1):\n",
    "            if array[num] > array[num + 1]:\n",
    "                swap(num,num+1,array)\n",
    "                isSorted = False\n",
    "    return array\n",
    "bubbleSort([22,55,88,44,1,100,34,66])"
   ]
  },
  {
   "cell_type": "markdown",
   "metadata": {},
   "source": [
    "##### Insertion Sort\n",
    "\n",
    "Worst Case: O(n^2) time - O(1)space"
   ]
  },
  {
   "cell_type": "code",
   "execution_count": 16,
   "metadata": {},
   "outputs": [
    {
     "name": "stdout",
     "output_type": "stream",
     "text": [
      "22 55 88 44 1 100 34 66\n",
      " i = 1, j = 0: [55, 22, 88, 44, 1, 100, 34, 66] \n",
      "\n",
      " i = 2, j = 1: [55, 88, 22, 44, 1, 100, 34, 66] \n",
      "\n",
      " i = 2, j = 0: [88, 55, 22, 44, 1, 100, 34, 66] \n",
      "\n",
      " i = 3, j = 2: [88, 55, 44, 22, 1, 100, 34, 66] \n",
      "\n",
      " i = 3, j = 1: [88, 44, 55, 22, 1, 100, 34, 66] \n",
      "\n",
      " i = 3, j = 0: [44, 88, 55, 22, 1, 100, 34, 66] \n",
      "\n",
      " i = 4, j = 3: [44, 88, 55, 1, 22, 100, 34, 66] \n",
      "\n",
      " i = 4, j = 2: [44, 88, 1, 55, 22, 100, 34, 66] \n",
      "\n",
      " i = 4, j = 1: [44, 1, 88, 55, 22, 100, 34, 66] \n",
      "\n",
      " i = 4, j = 0: [1, 44, 88, 55, 22, 100, 34, 66] \n",
      "\n",
      " i = 5, j = 4: [1, 44, 88, 55, 100, 22, 34, 66] \n",
      "\n",
      " i = 5, j = 3: [1, 44, 88, 100, 55, 22, 34, 66] \n",
      "\n",
      " i = 5, j = 2: [1, 44, 100, 88, 55, 22, 34, 66] \n",
      "\n",
      " i = 5, j = 1: [1, 100, 44, 88, 55, 22, 34, 66] \n",
      "\n",
      " i = 5, j = 0: [100, 1, 44, 88, 55, 22, 34, 66] \n",
      "\n",
      " i = 6, j = 5: [100, 1, 44, 88, 55, 34, 22, 66] \n",
      "\n",
      " i = 6, j = 4: [100, 1, 44, 88, 34, 55, 22, 66] \n",
      "\n",
      " i = 6, j = 3: [100, 1, 44, 34, 88, 55, 22, 66] \n",
      "\n",
      " i = 6, j = 2: [100, 1, 34, 44, 88, 55, 22, 66] \n",
      "\n",
      " i = 6, j = 1: [100, 34, 1, 44, 88, 55, 22, 66] \n",
      "\n",
      " i = 6, j = 0: [34, 100, 1, 44, 88, 55, 22, 66] \n",
      "\n",
      " i = 7, j = 6: [34, 100, 1, 44, 88, 55, 66, 22] \n",
      "\n",
      " i = 7, j = 5: [34, 100, 1, 44, 88, 66, 55, 22] \n",
      "\n",
      " i = 7, j = 4: [34, 100, 1, 44, 66, 88, 55, 22] \n",
      "\n",
      " i = 7, j = 3: [34, 100, 1, 66, 44, 88, 55, 22] \n",
      "\n",
      " i = 7, j = 2: [34, 100, 66, 1, 44, 88, 55, 22] \n",
      "\n",
      " i = 7, j = 1: [34, 66, 100, 1, 44, 88, 55, 22] \n",
      "\n",
      " i = 7, j = 0: [66, 34, 100, 1, 44, 88, 55, 22] \n",
      "\n"
     ]
    },
    {
     "data": {
      "text/plain": [
       "[66, 34, 100, 1, 44, 88, 55, 22]"
      ]
     },
     "execution_count": 16,
     "metadata": {},
     "output_type": "execute_result"
    }
   ],
   "source": [
    "def swap(i,j,array):\n",
    "    array[i],array[j] = array[j],array[i]\n",
    "    \n",
    "def insertionSort(array):\n",
    "    for i in range(1,len(array)):\n",
    "        j = i\n",
    "        while j > 0 and array[j - 1]:\n",
    "            swap(j, j-1, array)\n",
    "            j -= 1\n",
    "            print(f' i = {i}, j = {j}: {array} \\n')\n",
    "    return array\n",
    "print(22,55,88,44,1,100,34,66)\n",
    "insertionSort([22,55,88,44,1,100,34,66])"
   ]
  },
  {
   "cell_type": "markdown",
   "metadata": {},
   "source": [
    "## Merge Sort"
   ]
  },
  {
   "cell_type": "markdown",
   "metadata": {},
   "source": [
    "#### How it Works"
   ]
  },
  {
   "cell_type": "code",
   "execution_count": 17,
   "metadata": {},
   "outputs": [
    {
     "ename": "SyntaxError",
     "evalue": "invalid syntax (<ipython-input-17-0c8073ab38ce>, line 36)",
     "output_type": "error",
     "traceback": [
      "\u001b[1;36m  File \u001b[1;32m\"<ipython-input-17-0c8073ab38ce>\"\u001b[1;36m, line \u001b[1;32m36\u001b[0m\n\u001b[1;33m    alist[k] = righthalf[j]:\u001b[0m\n\u001b[1;37m                           ^\u001b[0m\n\u001b[1;31mSyntaxError\u001b[0m\u001b[1;31m:\u001b[0m invalid syntax\n"
     ]
    }
   ],
   "source": [
    "#step 1: split everything into its own group\n",
    "#step 2: from left to right merge the two groups together\n",
    "#step 3: while, merging, place each item in the correct position within merged group\n",
    "#step 4: continue steps 2-3 until one group is left\n",
    "\n",
    "from random import randint\n",
    "# used to generate random list of integers from 0 - 20\n",
    "nums = [randint(0,20) for i in range(5)]\n",
    "\n",
    "#write mergeSort function\n",
    "def mergeSort(alist):\n",
    "    print(\"Splitting...\", alist)\n",
    "    \n",
    "    #step 1 : Divide the array into equal parts (as much as possible)\n",
    "    if len(alist) > 1:\n",
    "        mid = len(alist) // 2\n",
    "        lefthalf = alist[:mid]\n",
    "        righthalf = alist[mid:]\n",
    "        \n",
    "        #recursively call mergeSort to perform split as needed\n",
    "        #then merge once splits are done\n",
    "        mergeSort(lefthalf)\n",
    "        mergeSort(righthalf)\n",
    "        \n",
    "        #index pointers for our list\n",
    "        i = 0 # pointer for left half\n",
    "        j = 0 # pointer for right half\n",
    "        k= 0 # pointer for the main array\n",
    "        \n",
    "        #step 2: compare and merge from left to right\n",
    "        while i < len(lefthalf) and j < len(righthalf):\n",
    "            if lefthalf[i] < righthalf[j]:\n",
    "                alist[k] = lefthalf[i]\n",
    "                i = i + 1\n",
    "            else:\n",
    "                alist[k] = righthalf[j]:\n",
    "                j = j + 1\n",
    "            k = k + 1\n",
    "        #step 3: while merging place items in the correct position\n",
    "        while i < len(lefthalf):\n",
    "            alist[k] = lefthalf[i]\n",
    "            i = i + 1\n",
    "            k = k + 1\n",
    "        while j <len(righthalf):\n",
    "            alist[k] = righthalf[j]\n",
    "            j = j + 1\n",
    "            k = k + 1\n",
    "    print(\"merging...\", alist)\n",
    "    return alist\n",
    "print(\"original nums list\", nums)\n",
    "mergeSort(nums)"
   ]
  },
  {
   "cell_type": "markdown",
   "metadata": {},
   "source": [
    "# Binary Search\n",
    "\n",
    "The Binary Search algorithm works by finding the number in the middle of a given array and comparing it to the target. Given that the array is sorted\n",
    "\n",
    "* The worst case run time for this algorithm is `O(log(n))`"
   ]
  },
  {
   "cell_type": "code",
   "execution_count": null,
   "metadata": {},
   "outputs": [],
   "source": [
    "#less == Left\n",
    "#greater == Right\n",
    "#List of number MUST be sorted\n",
    "\n",
    "def binarySearchHelperFunction(array, target, left, right):\n",
    "    while left <= right:\n",
    "        middle = (left + right) // 2\n",
    "        potentialMatch = array[middle]\n",
    "        if target == potentialMatch:\n",
    "            return f\"The index is {middle}\"\n",
    "        elif target<potentialMatch:\n",
    "            right = middle - 1\n",
    "        else:\n",
    "            left = middle + 1\n",
    "    return -1\n",
    "def binarySearch(array,target):\n",
    "    return binarySearchHelperFunction(array, target, 0 , len(array)-1)\n",
    "\n",
    "binarySearch([randint(0,15) for i in range(10)], 8)"
   ]
  },
  {
   "cell_type": "markdown",
   "metadata": {},
   "source": [
    "# Exercises"
   ]
  },
  {
   "cell_type": "markdown",
   "metadata": {},
   "source": [
    "### Exercise #1 <br>\n",
    "<p>Reverse the list below in-place using an in-place algorithm.<br>For extra credit: Reverse the strings at the same time.</p>"
   ]
  },
  {
   "cell_type": "code",
   "execution_count": 26,
   "metadata": {},
   "outputs": [
    {
     "ename": "SyntaxError",
     "evalue": "invalid syntax (<ipython-input-26-fafa06f45186>, line 6)",
     "output_type": "error",
     "traceback": [
      "\u001b[1;36m  File \u001b[1;32m\"<ipython-input-26-fafa06f45186>\"\u001b[1;36m, line \u001b[1;32m6\u001b[0m\n\u001b[1;33m    words[start:stop:step:5] = ['this' , 'is', 'a', 'sentence', '.']\u001b[0m\n\u001b[1;37m                         ^\u001b[0m\n\u001b[1;31mSyntaxError\u001b[0m\u001b[1;31m:\u001b[0m invalid syntax\n"
     ]
    }
   ],
   "source": [
    "words = ['this' , 'is', 'a', 'sentence', '.']\n",
    "\n",
    "def rev(lis,a,b,c,d,e):\n",
    "    lis[a],lis[b],lis[c],lis[d],lis[e] = lis[e],lis[d],lis[c],lis[b],lis[a]\n",
    "    return lis\n",
    "words[start:stop:step:5] = ['this' , 'is', 'a', 'sentence', '.'] \n",
    "\n",
    "rev(words,0,1,2,3,4)\n",
    "print(f'After Rev: {words}')\n"
   ]
  },
  {
   "cell_type": "markdown",
   "metadata": {},
   "source": [
    "### Exercise #2 <br>\n",
    "<p>Create a function that counts how many distinct words are in the string below, then outputs a dictionary with the words as the key and the value as the amount of times that word appears in the string.<br>Should output:<br>{'a': 5,<br>\n",
    " 'abstract': 1,<br>\n",
    " 'an': 3,<br>\n",
    " 'array': 2, ... etc...</p>"
   ]
  },
  {
   "cell_type": "code",
   "execution_count": 44,
   "metadata": {},
   "outputs": [
    {
     "data": {
      "text/plain": [
       "{'a': 5,\n",
       " 'abstract': 1,\n",
       " 'an': 3,\n",
       " 'array': 2,\n",
       " 'associative': 1,\n",
       " 'be': 1,\n",
       " 'buckets': 1,\n",
       " 'can': 2,\n",
       " 'compute': 1,\n",
       " 'computing,': 1,\n",
       " 'data': 2,\n",
       " 'desired': 1,\n",
       " 'found': 1,\n",
       " 'from': 1,\n",
       " 'function': 1,\n",
       " 'hash': 4,\n",
       " 'implements': 1,\n",
       " 'in': 1,\n",
       " 'index': 1,\n",
       " 'into': 1,\n",
       " 'is': 1,\n",
       " 'keys': 1,\n",
       " 'map': 2,\n",
       " 'of': 1,\n",
       " 'or': 1,\n",
       " 'slots': 1,\n",
       " 'structure': 2,\n",
       " 'table': 2,\n",
       " 'that': 1,\n",
       " 'the': 1,\n",
       " 'to': 2,\n",
       " 'type,': 1,\n",
       " 'uses': 1,\n",
       " 'value': 1,\n",
       " 'values.': 1,\n",
       " 'which': 2}"
      ]
     },
     "execution_count": 44,
     "metadata": {},
     "output_type": "execute_result"
    }
   ],
   "source": [
    "a_text = 'In computing, a hash table hash map is a data structure which implements an associative array abstract data type, a structure that can map keys to values. A hash table uses a hash function to compute an index into an array of buckets or slots from which the desired value can be found'\n",
    "def wordcount(s):\n",
    "    ndict = {}\n",
    "    \n",
    "    answer = s.lower().split()\n",
    "    answer.sort()\n",
    "    for word in answer:\n",
    "        ndict[word.lower()]=ndict.get(word.lower(),0)+1\n",
    "    return ndict\n",
    "wordcount(a_text)\n",
    "\n"
   ]
  },
  {
   "cell_type": "code",
   "execution_count": null,
   "metadata": {},
   "outputs": [],
   "source": []
  },
  {
   "cell_type": "markdown",
   "metadata": {},
   "source": [
    "## Exercise #3\n",
    "\n",
    "Write a program to implement a Linear Search Algorithm. Also in a comment, write the Time Complexity of the following algorithm.\n",
    "\n",
    "#### Hint: Linear Searching will require searching a list for a given number. "
   ]
  },
  {
   "cell_type": "code",
   "execution_count": 45,
   "metadata": {},
   "outputs": [
    {
     "data": {
      "text/plain": [
       "3"
      ]
     },
     "execution_count": 45,
     "metadata": {},
     "output_type": "execute_result"
    }
   ],
   "source": [
    "#Time Complexity O(N)\n",
    "nums_list = [10,23,45,70,11,15]\n",
    "target = 70\n",
    "\n",
    "# If number is not present return -1\n",
    "def linSearch(arr,target):\n",
    "    for i in range(len(arr)):\n",
    "        if arr[i] == target:\n",
    "            return i\n",
    "\n",
    "linSearch(nums_list,70)"
   ]
  },
  {
   "cell_type": "code",
   "execution_count": null,
   "metadata": {},
   "outputs": [],
   "source": []
  }
 ],
 "metadata": {
  "kernelspec": {
   "display_name": "Python 3",
   "language": "python",
   "name": "python3"
  },
  "language_info": {
   "codemirror_mode": {
    "name": "ipython",
    "version": 3
   },
   "file_extension": ".py",
   "mimetype": "text/x-python",
   "name": "python",
   "nbconvert_exporter": "python",
   "pygments_lexer": "ipython3",
   "version": "3.8.8"
  }
 },
 "nbformat": 4,
 "nbformat_minor": 2
}
